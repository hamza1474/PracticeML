{
  "nbformat": 4,
  "nbformat_minor": 0,
  "metadata": {
    "colab": {
      "name": "IrisDataLogisticRegression.ipynb",
      "version": "0.3.2",
      "provenance": [],
      "include_colab_link": true
    },
    "kernelspec": {
      "name": "python3",
      "display_name": "Python 3"
    }
  },
  "cells": [
    {
      "cell_type": "markdown",
      "metadata": {
        "id": "view-in-github",
        "colab_type": "text"
      },
      "source": [
        "<a href=\"https://colab.research.google.com/github/hamza1474/PracticeML/blob/master/IrisDataLogisticRegression.ipynb\" target=\"_parent\"><img src=\"https://colab.research.google.com/assets/colab-badge.svg\" alt=\"Open In Colab\"/></a>"
      ]
    },
    {
      "metadata": {
        "id": "igBoxhzPhRt_",
        "colab_type": "code",
        "colab": {}
      },
      "cell_type": "code",
      "source": [
        "import numpy as np\n",
        "import pandas as pd\n",
        "import matplotlib.pyplot as plt\n",
        "import sklearn as sk\n",
        "from sklearn.datasets import load_iris\n",
        "iris_dataset = load_iris()"
      ],
      "execution_count": 0,
      "outputs": []
    },
    {
      "metadata": {
        "id": "cd1YhmTehYys",
        "colab_type": "code",
        "colab": {}
      },
      "cell_type": "code",
      "source": [
        "from sklearn.model_selection import train_test_split\n",
        "X_train, X_test, y_train, y_test = train_test_split(\n",
        "iris_dataset['data'], iris_dataset['target'], random_state=0)"
      ],
      "execution_count": 0,
      "outputs": []
    },
    {
      "metadata": {
        "id": "QPxReaZmh6fg",
        "colab_type": "code",
        "colab": {}
      },
      "cell_type": "code",
      "source": [
        "def Sigmoid(x):\n",
        "  return 1/(1+np.exp(-x)) "
      ],
      "execution_count": 0,
      "outputs": []
    },
    {
      "metadata": {
        "id": "A481wRYRoX7Q",
        "colab_type": "code",
        "colab": {}
      },
      "cell_type": "code",
      "source": [
        "y_train.reshape(len(y_train),1)\n",
        "y_test.reshape(len(y_test),1)\n",
        "theta = np.zeros(5).reshape(5,1)\n",
        "m = len(X_train)\n",
        "z = np.ones((m,1))\n",
        "X = np.append(z,X_train,axis=1)\n",
        "all_theta = np.zeros(15).reshape(3,5)\n",
        "alpha = 0.8"
      ],
      "execution_count": 0,
      "outputs": []
    },
    {
      "metadata": {
        "id": "aAobgYCiinQa",
        "colab_type": "code",
        "colab": {}
      },
      "cell_type": "code",
      "source": [
        "def CostFunction(X, y, theta):\n",
        "  \n",
        "  hofx = Sigmoid(X@theta)\n",
        "  logExp = np.sum((np.transpose(np.log(hofx)) @ (-y_train.reshape(len(y_train),1))) - ((np.transpose(np.log(1-hofx)) @ (1-y_train.reshape(len(y_train),1)))))\n",
        "  error = hofx - y.reshape(112,1)\n",
        "  grad = ( np.transpose(X)@ error.reshape(len(error), 1) )/m\n",
        "  return grad"
      ],
      "execution_count": 0,
      "outputs": []
    },
    {
      "metadata": {
        "id": "dh0ftYad11dn",
        "colab_type": "code",
        "colab": {}
      },
      "cell_type": "code",
      "source": [
        "\n",
        "def OneVsAll(X, y_train, alpha):\n",
        "  for i in [0 ,1, 2]:\n",
        "    theta = np.zeros(5).reshape(5,1)\n",
        "    tempy = y_train == i\n",
        "    y = tempy.astype(np.int)\n",
        "    for j in range(1,30000):\n",
        "      grad = CostFunction(X, y, theta)\n",
        "      theta = theta - (alpha/m)*grad\n",
        "    all_theta[i] = np.transpose(theta)\n",
        "  return all_theta  \n",
        "    "
      ],
      "execution_count": 0,
      "outputs": []
    },
    {
      "metadata": {
        "id": "qZW2CijNl18l",
        "colab_type": "code",
        "outputId": "8cdc72bd-6ecc-452f-c423-9bb61de4f53e",
        "colab": {
          "base_uri": "https://localhost:8080/",
          "height": 68
        }
      },
      "cell_type": "code",
      "source": [
        "OneVsAll(X, y_train, alpha)"
      ],
      "execution_count": 107,
      "outputs": [
        {
          "output_type": "execute_result",
          "data": {
            "text/plain": [
              "array([[ 0.40208403,  0.64273854,  2.09047147, -3.34638045, -1.52726104],\n",
              "       [ 1.73731359,  0.5789863 , -2.06917854,  0.7085316 , -2.10369185],\n",
              "       [-1.80117413, -3.01028323, -2.26861874,  4.31177618,  3.79373964]])"
            ]
          },
          "metadata": {
            "tags": []
          },
          "execution_count": 107
        }
      ]
    },
    {
      "metadata": {
        "id": "GiSU-pzYoMMd",
        "colab_type": "code",
        "colab": {}
      },
      "cell_type": "code",
      "source": [
        "ones = np.ones((len(X_test),1))\n",
        "X2 = np.append(ones,X_test,axis=1)\n",
        "Prediction = []"
      ],
      "execution_count": 0,
      "outputs": []
    },
    {
      "metadata": {
        "id": "Wgh1Cm65rTVg",
        "colab_type": "code",
        "colab": {
          "base_uri": "https://localhost:8080/",
          "height": 663
        },
        "outputId": "6a89ce96-c733-43d9-c365-e42d022389f9"
      },
      "cell_type": "code",
      "source": [
        "r = X2 @ np.transpose(all_theta);\n",
        "result = Sigmoid(r);\n",
        "for i in range(len(result)):\n",
        "    Prediction.append(np.where(result[i] == np.amax(result[i])))\n",
        "\n",
        "result\n"
      ],
      "execution_count": 109,
      "outputs": [
        {
          "output_type": "execute_result",
          "data": {
            "text/plain": [
              "array([[2.14732928e-05, 1.05872290e-01, 9.95856591e-01],\n",
              "       [2.34007302e-03, 8.00508122e-01, 2.16049654e-02],\n",
              "       [9.99559316e-01, 3.92559223e-02, 6.92511695e-10],\n",
              "       [3.12890581e-06, 6.54843776e-01, 9.74361451e-01],\n",
              "       [9.95496366e-01, 1.46677293e-01, 2.94821218e-08],\n",
              "       [3.55716678e-06, 7.93360890e-02, 9.99177719e-01],\n",
              "       [9.97815004e-01, 8.94885114e-02, 1.44969881e-08],\n",
              "       [1.07970637e-03, 3.49015175e-01, 4.53544288e-02],\n",
              "       [5.12977537e-04, 5.83340959e-01, 6.81493231e-02],\n",
              "       [5.51445955e-03, 3.95262855e-01, 1.29060630e-02],\n",
              "       [1.48146227e-05, 7.13383525e-01, 9.67543875e-01],\n",
              "       [2.14068978e-03, 2.41277021e-01, 3.79438839e-02],\n",
              "       [6.20358718e-04, 5.69815493e-01, 1.54700679e-01],\n",
              "       [7.08935396e-04, 4.52823799e-01, 1.00167246e-01],\n",
              "       [5.63377456e-04, 4.14217390e-01, 2.37522147e-01],\n",
              "       [9.98053048e-01, 1.09767202e-01, 1.12519005e-08],\n",
              "       [8.85279874e-04, 3.19399690e-01, 2.06154079e-01],\n",
              "       [7.57737583e-04, 5.33694569e-01, 3.24791560e-01],\n",
              "       [9.90200077e-01, 2.09117834e-01, 1.26657226e-07],\n",
              "       [9.99145818e-01, 4.20336428e-02, 2.56447582e-09],\n",
              "       [6.79244675e-05, 1.75137994e-01, 9.75973778e-01],\n",
              "       [8.43784472e-04, 2.32357976e-01, 4.08295996e-01],\n",
              "       [9.80758502e-01, 1.68921867e-01, 3.02037410e-07],\n",
              "       [9.86641001e-01, 2.41484384e-01, 3.62522083e-07],\n",
              "       [1.89427843e-04, 2.98936998e-01, 6.70002073e-01],\n",
              "       [9.99277843e-01, 5.94908458e-02, 7.23033604e-09],\n",
              "       [9.90574020e-01, 6.48881322e-02, 1.05505865e-07],\n",
              "       [2.66350568e-03, 4.10547467e-01, 2.73468724e-02],\n",
              "       [1.55740071e-02, 5.26873299e-01, 1.71608927e-02],\n",
              "       [9.91492528e-01, 1.08052687e-01, 9.69029070e-08],\n",
              "       [3.87597251e-05, 2.97057558e-01, 9.20106542e-01],\n",
              "       [7.42075639e-04, 2.12346050e-01, 5.57505053e-01],\n",
              "       [9.96782576e-01, 1.35635490e-01, 1.28695691e-08],\n",
              "       [1.93095889e-04, 2.22138731e-01, 7.28430994e-01],\n",
              "       [8.04240775e-06, 2.66741336e-01, 9.93775725e-01],\n",
              "       [3.01705702e-03, 2.64903717e-01, 1.89577948e-01],\n",
              "       [9.97163829e-01, 9.51816723e-02, 5.00715311e-09],\n",
              "       [6.72269098e-05, 4.68056947e-01, 8.88141647e-01]])"
            ]
          },
          "metadata": {
            "tags": []
          },
          "execution_count": 109
        }
      ]
    },
    {
      "metadata": {
        "id": "E-Sz_2rCxPy3",
        "colab_type": "code",
        "outputId": "5d145b33-8653-4a23-a4d9-90a4a6fca168",
        "colab": {
          "base_uri": "https://localhost:8080/",
          "height": 34
        }
      },
      "cell_type": "code",
      "source": [
        "sum = 0\n",
        "for x in (y_test - np.transpose(Prediction)).reshape(38,1):\n",
        "  if x == 0:\n",
        "    sum+=1\n",
        "acc = (sum/38)*100    \n",
        "print(\"The accuracy is \", acc)"
      ],
      "execution_count": 110,
      "outputs": [
        {
          "output_type": "stream",
          "text": [
            "The accuracy is  92.10526315789474\n"
          ],
          "name": "stdout"
        }
      ]
    },
    {
      "metadata": {
        "id": "my46Rei7POTY",
        "colab_type": "code",
        "colab": {
          "base_uri": "https://localhost:8080/",
          "height": 51
        },
        "outputId": "b2f141ff-9378-4731-9d1e-189d84a1a3ef"
      },
      "cell_type": "code",
      "source": [
        "y_test"
      ],
      "execution_count": 99,
      "outputs": [
        {
          "output_type": "execute_result",
          "data": {
            "text/plain": [
              "array([2, 1, 0, 2, 0, 2, 0, 1, 1, 1, 2, 1, 1, 1, 1, 0, 1, 1, 0, 0, 2, 1,\n",
              "       0, 0, 2, 0, 0, 1, 1, 0, 2, 1, 0, 2, 2, 1, 0, 1])"
            ]
          },
          "metadata": {
            "tags": []
          },
          "execution_count": 99
        }
      ]
    },
    {
      "metadata": {
        "id": "UiC3a7Z6S5x5",
        "colab_type": "code",
        "colab": {}
      },
      "cell_type": "code",
      "source": [
        ""
      ],
      "execution_count": 0,
      "outputs": []
    }
  ]
}