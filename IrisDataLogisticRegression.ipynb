{
  "nbformat": 4,
  "nbformat_minor": 0,
  "metadata": {
    "colab": {
      "name": "IrisDataLogisticRegression.ipynb",
      "version": "0.3.2",
      "provenance": [],
      "include_colab_link": true
    },
    "kernelspec": {
      "name": "python3",
      "display_name": "Python 3"
    }
  },
  "cells": [
    {
      "cell_type": "markdown",
      "metadata": {
        "id": "view-in-github",
        "colab_type": "text"
      },
      "source": [
        "<a href=\"https://colab.research.google.com/github/hamza1474/PracticeML/blob/master/IrisDataLogisticRegression.ipynb\" target=\"_parent\"><img src=\"https://colab.research.google.com/assets/colab-badge.svg\" alt=\"Open In Colab\"/></a>"
      ]
    },
    {
      "metadata": {
        "id": "igBoxhzPhRt_",
        "colab_type": "code",
        "colab": {}
      },
      "cell_type": "code",
      "source": [
        "import numpy as np\n",
        "import mglearn\n",
        "import pandas as pd\n",
        "import matplotlib.pyplot as plt\n",
        "import sklearn as sk\n",
        "from sklearn.datasets import load_iris\n",
        "iris_dataset = load_iris()"
      ],
      "execution_count": 0,
      "outputs": []
    },
    {
      "metadata": {
        "id": "cd1YhmTehYys",
        "colab_type": "code",
        "colab": {}
      },
      "cell_type": "code",
      "source": [
        "from sklearn.model_selection import train_test_split\n",
        "X_train, X_test, y_train, y_test = train_test_split(\n",
        "iris_dataset['data'], iris_dataset['target'], random_state=0)"
      ],
      "execution_count": 0,
      "outputs": []
    },
    {
      "metadata": {
        "id": "AfWRUzQbhl25",
        "colab_type": "code",
        "colab": {}
      },
      "cell_type": "code",
      "source": [
        "iris_dataframe = pd.DataFrame(X_train, columns=iris_dataset.feature_names)"
      ],
      "execution_count": 0,
      "outputs": []
    },
    {
      "metadata": {
        "id": "40ENejXDh0Kn",
        "colab_type": "code",
        "colab": {}
      },
      "cell_type": "code",
      "source": [
        "pd.plotting.scatter_matrix(iris_dataframe, c=y_train, figsize=(15, 15), marker='o', hist_kwds={'bins': 20}, s=60, alpha=.8, cmap=mglearn.cm3)"
      ],
      "execution_count": 0,
      "outputs": []
    },
    {
      "metadata": {
        "id": "QPxReaZmh6fg",
        "colab_type": "code",
        "colab": {}
      },
      "cell_type": "code",
      "source": [
        "def Sigmoid(x):\n",
        "  return 1/(1+np.exp(-x)) "
      ],
      "execution_count": 0,
      "outputs": []
    },
    {
      "metadata": {
        "id": "A481wRYRoX7Q",
        "colab_type": "code",
        "colab": {}
      },
      "cell_type": "code",
      "source": [
        "y_train.reshape(len(y_train),1)\n",
        "y_test.reshape(len(y_test),1)\n",
        "theta = np.zeros(5).reshape(5,1)\n",
        "m = len(X_train)\n",
        "z = np.ones((m,1))\n",
        "X = np.append(z,X_train,axis=1)\n",
        "all_theta = np.zeros(15).reshape(3,5)\n",
        "alpha = 0.001"
      ],
      "execution_count": 0,
      "outputs": []
    },
    {
      "metadata": {
        "id": "aAobgYCiinQa",
        "colab_type": "code",
        "colab": {}
      },
      "cell_type": "code",
      "source": [
        "def CostFunction(X, y, theta):\n",
        "  \n",
        "  hofx = Sigmoid(X@theta)\n",
        "  logExp = np.sum((np.transpose(np.log(hofx)) @ (-y_train.reshape(len(y_train),1))) - ((np.transpose(np.log(1-hofx)) @ (1-y_train.reshape(len(y_train),1)))))\n",
        "  error = hofx - y.reshape(112,1)\n",
        "  grad = ( np.transpose(X)@ error.reshape(len(error), 1) )/m\n",
        "  return grad"
      ],
      "execution_count": 0,
      "outputs": []
    },
    {
      "metadata": {
        "id": "dh0ftYad11dn",
        "colab_type": "code",
        "colab": {}
      },
      "cell_type": "code",
      "source": [
        "def OneVsAll(X, y_train, alpha):\n",
        "  for i in [0 ,1, 2]:\n",
        "    theta = np.zeros(5).reshape(5,1)\n",
        "    tempy = y_train == i\n",
        "    y = tempy.astype(np.int)\n",
        "    for j in range(1,30000):\n",
        "      grad = CostFunction(X, y, theta)\n",
        "      theta = theta - (alpha/m)*grad\n",
        "    all_theta[i] = np.transpose(theta)\n",
        "  return all_theta  \n",
        "    "
      ],
      "execution_count": 0,
      "outputs": []
    },
    {
      "metadata": {
        "id": "qZW2CijNl18l",
        "colab_type": "code",
        "outputId": "a11cd5b0-c827-4093-ec43-5ed0ab824d40",
        "colab": {
          "base_uri": "https://localhost:8080/",
          "height": 68
        }
      },
      "cell_type": "code",
      "source": [
        "OneVsAll(X, y_train, alpha)"
      ],
      "execution_count": 0,
      "outputs": [
        {
          "output_type": "execute_result",
          "data": {
            "text/plain": [
              "array([[ 0.00140932, -0.0587678 ,  0.03203929, -0.17549497, -0.07407632],\n",
              "       [-0.01490419, -0.0806092 , -0.0692773 , -0.01566994, -0.00755427],\n",
              "       [-0.0231552 , -0.06257025, -0.07540487,  0.07999912,  0.0485669 ]])"
            ]
          },
          "metadata": {
            "tags": []
          },
          "execution_count": 225
        }
      ]
    },
    {
      "metadata": {
        "id": "GiSU-pzYoMMd",
        "colab_type": "code",
        "colab": {}
      },
      "cell_type": "code",
      "source": [
        "ones = np.ones((len(X_test),1))\n",
        "Xt = np.append(ones,X_test,axis=1)\n",
        "Prediction = []"
      ],
      "execution_count": 0,
      "outputs": []
    },
    {
      "metadata": {
        "id": "Wgh1Cm65rTVg",
        "colab_type": "code",
        "colab": {}
      },
      "cell_type": "code",
      "source": [
        "r = Xt @ np.transpose(all_theta);\n",
        "result = Sigmoid(r);\n",
        "for i in range(len(result)):\n",
        "    Prediction.append(np.where(result[i] == np.amax(result[i])))\n",
        "\n",
        "\n"
      ],
      "execution_count": 0,
      "outputs": []
    },
    {
      "metadata": {
        "id": "E-Sz_2rCxPy3",
        "colab_type": "code",
        "outputId": "b03a9a40-9c6f-47c2-bb40-ce65f00e3dd8",
        "colab": {
          "base_uri": "https://localhost:8080/",
          "height": 34
        }
      },
      "cell_type": "code",
      "source": [
        "sum = 0\n",
        "for x in (y_test - np.transpose(Prediction)).reshape(38,1):\n",
        "  if x == 0:\n",
        "    sum+=1\n",
        "acc = (sum/38)*100    \n",
        "print(\"The accuracy is \", acc)"
      ],
      "execution_count": 0,
      "outputs": [
        {
          "output_type": "stream",
          "text": [
            "The accuracy is  42.10526315789473\n"
          ],
          "name": "stdout"
        }
      ]
    }
  ]
}